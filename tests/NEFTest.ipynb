{
 "cells": [
  {
   "cell_type": "code",
   "execution_count": 1,
   "id": "25588e04-2369-4c17-a900-b23f2e18e2c4",
   "metadata": {},
   "outputs": [],
   "source": [
    "import numpy as np\n",
    "import math\n",
    "import sys\n",
    "sys.path.append('C:\\\\Users\\\\stone\\\\source\\\\nav')\n",
    "import NEF\n",
    "import EarthModel"
   ]
  },
  {
   "cell_type": "code",
   "execution_count": 2,
   "id": "2c3bcf0c-3b70-48fb-8ccc-fc6251d19c90",
   "metadata": {},
   "outputs": [
    {
     "name": "stdout",
     "output_type": "stream",
     "text": [
      "0.0\n",
      "{'BODY_FRAME_X': 0, 'BODY_FRAME_Y': 0, 'BODY_FRAME_Z': 0}\n",
      "{'NAV_FRAME_EULER_ROLL': 0.0, 'NAV_FRAME_EULER_PITCH': 0.0, 'NAV_FRAME_EULER_HEADING': 0.0}\n"
     ]
    }
   ],
   "source": [
    "inert = NEF.NEFInertialInputData()\n",
    "print(inert.TimeOfValidity)\n",
    "print(inert.BodyAngularRates)\n",
    "NEFout = NEF.NEFOutput()\n",
    "print(NEFout.EulerAngleAttitude)"
   ]
  },
  {
   "cell_type": "code",
   "execution_count": 3,
   "id": "c1c18caa-6259-4067-9e68-6e30a7cbecf5",
   "metadata": {},
   "outputs": [],
   "source": [
    "pPosition = {\n",
    "  'GEODETIC_POSITION_LATITUDE': 27.975608*math.pi/180.0,\n",
    "  'GEODETIC_POSITION_LONGITUDE': -82.382481*math.pi/180.0,\n",
    "  'GEODETIC_POSITION_HEIGHT': 5\n",
    "}\n",
    "\n",
    "pVelocity = {\n",
    "  'NAV_FRAME_NORTH': 0,\n",
    "  'NAV_FRAME_EAST':0,\n",
    "  'NAV_FRAME_DOWN':0\n",
    "  }\n",
    "\n",
    "pAttitude = {\n",
    "    'NAV_FRAME_EULER_ROLL':0.0,\n",
    "    'NAV_FRAME_EULER_PITCH':90.0*np.pi/180.0,\n",
    "    'NAV_FRAME_EULER_HEADING':0.0\n",
    "    }\n",
    "pInitial = {\n",
    "    'TimeOfValidity':1024.0,\n",
    "    'Position':pPosition,\n",
    "    'Velocity':pVelocity,\n",
    "    'Attitude':pAttitude\n",
    "    }\n",
    "pEarthModel = EarthModel.EarthModel()\n",
    "pEarthModel.EarthModel_SetParametersToWGS84()"
   ]
  },
  {
   "cell_type": "code",
   "execution_count": 4,
   "id": "798565ac-2ade-47c8-903b-8b86427ebf81",
   "metadata": {},
   "outputs": [
    {
     "name": "stdout",
     "output_type": "stream",
     "text": [
      "6382840.02328956\n",
      "6382840.02328956\n"
     ]
    }
   ],
   "source": [
    "pEarthModel.EarthModel_CalculateGravityAndEarthRadii(pPosition, np.sin(pPosition['GEODETIC_POSITION_LATITUDE']))\n",
    "GeodeticPositionInit =  {\n",
    "    'GEODETIC_POSITION_LATITUDE': 0.0,\n",
    "    'GEODETIC_POSITION_LONGITUDE': 0.0,\n",
    "    'GEODETIC_POSITION_HEIGHT': 0.0\n",
    "    }\n",
    "\n",
    "NavFrameVelocityInit = {\n",
    "  'NAV_FRAME_NORTH':0.0,\n",
    "  'NAV_FRAME_EAST':0.0,\n",
    "  'NAV_FRAME_DOWN':0.0\n",
    "  }\n",
    "\n",
    "OutputInit = {\n",
    "  'GeodeticPosition':GeodeticPositionInit,\n",
    "  'CosLatitude':1.0,\n",
    "  'SinLatitude':0.0,\n",
    "  'NavFrameVelocity':NavFrameVelocityInit,\n",
    "  'EarthModel':pEarthModel\n",
    "  } \n",
    "  \n",
    "#pStateData = {\n",
    "#  ['Output']:OutputInit\n",
    "#  }\n",
    "\n",
    "print(pEarthModel.TransverseRadiusOfCurvature)\n",
    "print(OutputInit['EarthModel'].TransverseRadiusOfCurvature)"
   ]
  },
  {
   "cell_type": "code",
   "execution_count": 5,
   "id": "6b33caba-a6d6-426c-8f97-bd8acdb04493",
   "metadata": {},
   "outputs": [],
   "source": [
    "state = NEF.NEFStateData()"
   ]
  },
  {
   "cell_type": "code",
   "execution_count": 6,
   "id": "da60b552-bba3-4fb4-985b-05d3045d8b26",
   "metadata": {},
   "outputs": [
    {
     "data": {
      "text/plain": [
       "<NEF.NEFStateData at 0x140dfc1e570>"
      ]
     },
     "execution_count": 6,
     "metadata": {},
     "output_type": "execute_result"
    }
   ],
   "source": []
  },
  {
   "cell_type": "code",
   "execution_count": null,
   "id": "e1cf175a-1fdb-450e-bc3c-fe181101a9c5",
   "metadata": {},
   "outputs": [],
   "source": []
  }
 ],
 "metadata": {
  "kernelspec": {
   "display_name": "nav",
   "language": "python",
   "name": "nav"
  },
  "language_info": {
   "codemirror_mode": {
    "name": "ipython",
    "version": 3
   },
   "file_extension": ".py",
   "mimetype": "text/x-python",
   "name": "python",
   "nbconvert_exporter": "python",
   "pygments_lexer": "ipython3",
   "version": "3.12.0"
  }
 },
 "nbformat": 4,
 "nbformat_minor": 5
}
