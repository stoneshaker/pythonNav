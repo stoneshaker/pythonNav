{
 "cells": [
  {
   "cell_type": "code",
   "execution_count": 1,
   "id": "7f6ec45d-52d2-4967-856a-cfdcf12db054",
   "metadata": {},
   "outputs": [],
   "source": [
    "import pandas as pd\n",
    "from numpy.testing import assert_allclose\n",
    "import numpy as np\n",
    "import pytest\n",
    "from pyins import sim\n",
    "from pyins.transform import compute_state_difference\n",
    "from pyins.strapdown import compute_increments_from_imu, Integrator\n",
    "from pyins.util import GYRO_COLS, ACCEL_COLS, THETA_COLS, DV_COLS"
   ]
  },
  {
   "cell_type": "code",
   "execution_count": 2,
   "id": "e1d48fbd-1359-420b-aceb-c972b1fcaa69",
   "metadata": {},
   "outputs": [],
   "source": [
    "def test_coning_sculling():\n",
    "    # Basically a smoke test, because the function is quite simple.\n",
    "    imu = pd.DataFrame(data=np.zeros((10, 6)), columns=GYRO_COLS + ACCEL_COLS)\n",
    "\n",
    "    imu.gyro_x = 0.01\n",
    "    imu.gyro_z = -0.01\n",
    "    imu.accel_z = 0.1\n",
    "\n",
    "    dv_true = np.empty((9, 3))\n",
    "    dv_true[:, 0] = 0\n",
    "    dv_true[:, 1] = -0.5e-3\n",
    "    dv_true[:, 2] = 0.1\n",
    "    increments = compute_increments_from_imu(imu, 'increment')\n",
    "    assert_allclose(increments[THETA_COLS], imu[GYRO_COLS].iloc[1:], rtol=1e-10)\n",
    "    assert_allclose(increments[DV_COLS], dv_true, rtol=1e-10)"
   ]
  },
  {
   "cell_type": "code",
   "execution_count": 3,
   "id": "3dd7793c-ad42-4337-a1f0-ab58db07cb20",
   "metadata": {},
   "outputs": [],
   "source": [
    "def run_integration_test(reference_trajectory, imu, with_altitude, sensor_type,\n",
    "                         thresholds):\n",
    "    increments = compute_increments_from_imu(imu, sensor_type)\n",
    "    integrator = Integrator(reference_trajectory.iloc[0], with_altitude)\n",
    "    result = integrator.integrate(increments)\n",
    "    diff = compute_state_difference(result, reference_trajectory).abs().max(axis=0)\n",
    "    assert (diff < thresholds).all()"
   ]
  },
  {
   "cell_type": "code",
   "execution_count": 7,
   "id": "48b8d192-294a-41e9-96df-efccd1e33f95",
   "metadata": {},
   "outputs": [
    {
     "ename": "SyntaxError",
     "evalue": "incomplete input (3502174027.py, line 2)",
     "output_type": "error",
     "traceback": [
      "  \u001b[36mCell\u001b[39m\u001b[36m \u001b[39m\u001b[32mIn[7]\u001b[39m\u001b[32m, line 2\u001b[39m\n\u001b[31m    \u001b[39m\u001b[31m@pytest.mark.parametrize(\"sensor_type\", [\"rate\", \"increment\"])\u001b[39m\n                                                                  ^\n\u001b[31mSyntaxError\u001b[39m\u001b[31m:\u001b[39m incomplete input\n"
     ]
    }
   ],
   "source": [
    "@pytest.mark.parametrize(\"with_altitude\", [True, False])\n",
    "@pytest.mark.parametrize(\"sensor_type\", [\"rate\", \"increment\"])"
   ]
  },
  {
   "cell_type": "code",
   "execution_count": 5,
   "id": "afa84256-de4b-48bf-9518-da5abace32ac",
   "metadata": {},
   "outputs": [
    {
     "ename": "SyntaxError",
     "evalue": "incomplete input (1714392543.py, line 33)",
     "output_type": "error",
     "traceback": [
      "  \u001b[36mCell\u001b[39m\u001b[36m \u001b[39m\u001b[32mIn[5]\u001b[39m\u001b[32m, line 33\u001b[39m\n\u001b[31m    \u001b[39m\u001b[31m'roll': 1e-6, 'pitch': 1e-6, 'heading': 1e-5})])\u001b[39m\n                                                    ^\n\u001b[31mSyntaxError\u001b[39m\u001b[31m:\u001b[39m incomplete input\n"
     ]
    }
   ],
   "source": [
    "def test_integrate_stationary(with_altitude, sensor_type):\n",
    "    total_time = 3600\n",
    "    dt = 1e-1\n",
    "    time = np.arange(0, total_time, dt)\n",
    "    n = len(time)\n",
    "\n",
    "    lla = np.empty((n, 3))\n",
    "    lla[:, 0] = 55.0\n",
    "    lla[:, 1] = 37.0\n",
    "    lla[:, 2] = 150.0\n",
    "\n",
    "    rph = np.empty((n, 3))\n",
    "    rph[:, 0] = -5.0\n",
    "    rph[:, 1] = 10.0\n",
    "    rph[:, 2] = 110.0\n",
    "\n",
    "    thresholds = pd.Series({\n",
    "        'north': 1e-3, 'east': 1e-3, 'down': 1e-2,\n",
    "        'VN': 1e-6, 'VE': 1e-6, 'VD': 1e-5,\n",
    "        'roll': 1e-8, 'pitch': 1e-8, 'heading': 1e-8\n",
    "    })\n",
    "\n",
    "    ref, imu = sim.generate_imu(time, lla, rph, sensor_type=sensor_type)\n",
    "    run_integration_test(ref, imu, with_altitude, sensor_type, thresholds)\n",
    "\n",
    "\n",
    "@pytest.mark.parametrize(\"sensor_type, thresholds\", [\n",
    "    (\"rate\", {'north': 10.0, 'east': 10.0, 'down': 10,\n",
    "              'VN': 1e-2, 'VE': 1e-2, 'VD': 1e-2,\n",
    "              'roll': 1e-4, 'pitch': 1e-4, 'heading': 1e-4}),\n",
    "    (\"increment\", {'north': 0.1, 'east': 0.1, 'down': 3,\n",
    "                   'VN': 1e-3, 'VE': 1e-3, 'VD': 1e-2,\n",
    "                   'roll': 1e-6, 'pitch': 1e-6, 'heading': 1e-5})])"
   ]
  },
  {
   "cell_type": "code",
   "execution_count": 6,
   "id": "0d40623f-cf4a-4aaa-a699-cf74c6106e50",
   "metadata": {},
   "outputs": [],
   "source": [
    "def test_integrate_sine_velocity(sensor_type, thresholds):\n",
    "    ref, imu = sim.generate_sine_velocity_motion(\n",
    "        1e-2, 3600, [55, 37, 1500], [5, -3, 0.2], velocity_change_amplitude=1,\n",
    "        sensor_type=sensor_type)\n",
    "    run_integration_test(ref, imu, True, sensor_type, pd.Series(thresholds))"
   ]
  },
  {
   "cell_type": "code",
   "execution_count": null,
   "id": "e2e97bcd-d256-4f55-bc80-790d3832acf6",
   "metadata": {},
   "outputs": [],
   "source": []
  }
 ],
 "metadata": {
  "kernelspec": {
   "display_name": "nav",
   "language": "python",
   "name": "nav"
  },
  "language_info": {
   "codemirror_mode": {
    "name": "ipython",
    "version": 3
   },
   "file_extension": ".py",
   "mimetype": "text/x-python",
   "name": "python",
   "nbconvert_exporter": "python",
   "pygments_lexer": "ipython3",
   "version": "3.12.0"
  }
 },
 "nbformat": 4,
 "nbformat_minor": 5
}
