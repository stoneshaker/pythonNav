{
 "cells": [
  {
   "cell_type": "code",
   "execution_count": 3,
   "id": "25588e04-2369-4c17-a900-b23f2e18e2c4",
   "metadata": {},
   "outputs": [],
   "source": [
    "import numpy as np\n",
    "import math\n",
    "import sys\n",
    "sys.path.append('C:\\\\Users\\\\stone\\\\source\\\\nav')\n",
    "import EarthModel"
   ]
  },
  {
   "cell_type": "code",
   "execution_count": 5,
   "id": "531771ec-034a-4306-b476-ea482c5f4897",
   "metadata": {},
   "outputs": [
    {
     "name": "stdout",
     "output_type": "stream",
     "text": [
      "6382840.02328956\n",
      "6382840.02328956\n"
     ]
    }
   ],
   "source": [
    "pPosition = {\n",
    "  'GEODETIC_POSITION_LATITUDE': 27.975608*math.pi/180.0,\n",
    "  'GEODETIC_POSITION_LONGITUDE': -82.382481*math.pi/180.0,\n",
    "  'GEODETIC_POSITION_HEIGHT': 5\n",
    "}\n",
    "SinLatitude = math.sin(pPosition['GEODETIC_POSITION_LATITUDE'])\n",
    "\n",
    "GeodeticPositionInit = {\n",
    "  'GEODETIC_POSITION_LATITUDE': 0,\n",
    "  'GEODETIC_POSITION_LONGITUDE': 0,\n",
    "  'GEODETIC_POSITION_HEIGHT': 0\n",
    "  }\n",
    "  \n",
    "NavFrameVelocityInit = {\n",
    "  'NAV_FRAME_NORTH': 0,\n",
    "  'NAV_FRAME_EAST':0,\n",
    "  'NAV_FRAME_DOWN':0\n",
    "  }\n",
    "\n",
    "pEarthModel = EarthModel.EarthModel()\n",
    "pEarthModel.EarthModel_SetParametersToWGS84()\n",
    "pEarthModel.EarthModel_CalculateGravityAndEarthRadii(pPosition, SinLatitude)\n",
    "\n",
    "OutputInit = {\n",
    "  'GeodeticPosition':GeodeticPositionInit,\n",
    "  'CosLatitude':1.0,\n",
    "  'SinLatitude':0.0,\n",
    "  'NavFrameVelocity':NavFrameVelocityInit,\n",
    "  'EarthModel':pEarthModel\n",
    "  } \n",
    "  \n",
    "#pStateData = {\n",
    "#  ['Output']:OutputInit\n",
    "#  }\n",
    "\n",
    "print(pEarthModel.TransverseRadiusOfCurvature)\n",
    "print(OutputInit['EarthModel'].TransverseRadiusOfCurvature)"
   ]
  },
  {
   "cell_type": "code",
   "execution_count": null,
   "id": "6b33caba-a6d6-426c-8f97-bd8acdb04493",
   "metadata": {},
   "outputs": [],
   "source": []
  }
 ],
 "metadata": {
  "kernelspec": {
   "display_name": "nav",
   "language": "python",
   "name": "nav"
  },
  "language_info": {
   "codemirror_mode": {
    "name": "ipython",
    "version": 3
   },
   "file_extension": ".py",
   "mimetype": "text/x-python",
   "name": "python",
   "nbconvert_exporter": "python",
   "pygments_lexer": "ipython3",
   "version": "3.12.0"
  }
 },
 "nbformat": 4,
 "nbformat_minor": 5
}
