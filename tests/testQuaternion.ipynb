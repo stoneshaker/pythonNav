{
 "cells": [
  {
   "cell_type": "code",
   "execution_count": 2,
   "id": "eddf6c95-2018-4224-8474-337016558bcd",
   "metadata": {},
   "outputs": [],
   "source": [
    "import EarthModel\n",
    "import numpy as np\n",
    "import math\n",
    "import sys\n",
    "sys.path.append('C:\\\\Users\\\\stone\\\\source\\\\nav')\n",
    "import quaternion\n",
    "import RotationConversion"
   ]
  },
  {
   "cell_type": "code",
   "execution_count": 3,
   "id": "c06440c4-e202-483d-8c16-b1b8f98f8cef",
   "metadata": {},
   "outputs": [],
   "source": [
    "testEuler1 = {\n",
    "    'NAV_FRAME_EULER_ROLL':0,\n",
    "    'NAV_FRAME_EULER_PITCH':90*np.pi/180.0,\n",
    "    'NAV_FRAME_EULER_HEADING':0.0\n",
    "}"
   ]
  },
  {
   "cell_type": "code",
   "execution_count": 4,
   "id": "c295cd67-92a6-4ca9-bdb2-ba07e61be726",
   "metadata": {},
   "outputs": [
    {
     "name": "stdout",
     "output_type": "stream",
     "text": [
      "{'NAV_FRAME_EULER_ROLL': 0, 'NAV_FRAME_EULER_PITCH': 1.5707963267948966, 'NAV_FRAME_EULER_HEADING': 0.0}\n"
     ]
    }
   ],
   "source": [
    "print(testEuler1)"
   ]
  },
  {
   "cell_type": "code",
   "execution_count": 5,
   "id": "a925e01a-6d71-4657-8677-72e202b61b58",
   "metadata": {},
   "outputs": [],
   "source": [
    "testQ1 = RotationConversion.FormQuaternionFromEulerAngles(testEuler1)"
   ]
  },
  {
   "cell_type": "code",
   "execution_count": 6,
   "id": "4f7ced03-c57e-4191-aae1-967aa33a79f8",
   "metadata": {},
   "outputs": [
    {
     "name": "stdout",
     "output_type": "stream",
     "text": [
      "{'s': np.float64(0.7071067811865476), 'i': np.float64(0.0), 'j': np.float64(0.7071067811865476), 'k': np.float64(0.0)}\n"
     ]
    }
   ],
   "source": [
    "print(testQ1)"
   ]
  },
  {
   "cell_type": "code",
   "execution_count": 7,
   "id": "ce0a1480-b82f-4d9a-89d2-da98736364c1",
   "metadata": {},
   "outputs": [],
   "source": [
    "testQ2 = { 's':1,'i':2,'j':3,'k':4}\n",
    "testQ = { 's':0.707106781,'i':0,'j':0,'k':0.707106781}\n",
    "q1 = quaternion.Quaternion_RotationIdentity()\n",
    "q2 = quaternion.sQuaternion_Copy(q1)\n",
    "q3 = quaternion.Quaternion_Multiply(testQ,q1)\n",
    "q4 = quaternion.Quaternion_Normalize(testQ2)"
   ]
  },
  {
   "cell_type": "code",
   "execution_count": 8,
   "id": "6ef31a44-141f-42d1-ac2a-fcf0cff766ae",
   "metadata": {},
   "outputs": [
    {
     "name": "stdout",
     "output_type": "stream",
     "text": [
      "{'s': 1.0, 'i': 0.0, 'j': 0.0, 'k': 0.0}\n",
      "{'s': 1.0, 'i': 0.0, 'j': 0.0, 'k': 0.0}\n",
      "{'s': 0.707106781, 'i': 0.0, 'j': 0.0, 'k': 0.707106781}\n",
      "{'s': 0.18257418583505536, 'i': 0.3651483716701107, 'j': 0.5477225575051661, 'k': 0.7302967433402214}\n"
     ]
    }
   ],
   "source": [
    "print(q1)\n",
    "print(q2)\n",
    "print(q3)\n",
    "print(q4)"
   ]
  },
  {
   "cell_type": "code",
   "execution_count": 9,
   "id": "2fc1690c-e83d-44bf-a746-50579d7b2ee4",
   "metadata": {},
   "outputs": [],
   "source": [
    "dcm = RotationConversion.FormDCMFromQuaternion(testQ)\n",
    "euler = RotationConversion.ExtractEulerAnglesFromDCM(dcm)\n",
    "testEuler = {'NAV_FRAME_EULER_ROLL':0.0,\n",
    "             'NAV_FRAME_EULER_PITCH':90.0*np.pi/180.0,\n",
    "             'NAV_FRAME_EULER_HEADING':0.0\n",
    "             }\n",
    "qq = RotationConversion.FormQuaternionFromEulerAngles(testEuler)"
   ]
  },
  {
   "cell_type": "code",
   "execution_count": 10,
   "id": "7f7419df-5e9f-45ae-9029-3c6e8984e21f",
   "metadata": {},
   "outputs": [
    {
     "name": "stdout",
     "output_type": "stream",
     "text": [
      "[[ 0. -1.  0.]\n",
      " [ 1.  0.  0.]\n",
      " [ 0.  0.  1.]]\n",
      "{'NAV_FRAME_EULER_ROLL': np.float64(0.0), 'NAV_FRAME_EULER_PITCH': np.float64(-0.0), 'NAV_FRAME_EULER_HEADING': np.float64(1.5707963267948966)}\n",
      "{'s': np.float64(0.7071067811865476), 'i': np.float64(0.0), 'j': np.float64(0.7071067811865476), 'k': np.float64(0.0)}\n"
     ]
    }
   ],
   "source": [
    "print(dcm)\n",
    "print(euler)\n",
    "print(qq)"
   ]
  },
  {
   "cell_type": "code",
   "execution_count": null,
   "id": "65e94cbe-bbd1-4363-bfbe-35199de9c8b0",
   "metadata": {},
   "outputs": [],
   "source": []
  }
 ],
 "metadata": {
  "kernelspec": {
   "display_name": "nav",
   "language": "python",
   "name": "nav"
  },
  "language_info": {
   "codemirror_mode": {
    "name": "ipython",
    "version": 3
   },
   "file_extension": ".py",
   "mimetype": "text/x-python",
   "name": "python",
   "nbconvert_exporter": "python",
   "pygments_lexer": "ipython3",
   "version": "3.12.0"
  }
 },
 "nbformat": 4,
 "nbformat_minor": 5
}
