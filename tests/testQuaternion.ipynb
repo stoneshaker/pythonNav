{
 "cells": [
  {
   "cell_type": "code",
   "execution_count": 9,
   "id": "eddf6c95-2018-4224-8474-337016558bcd",
   "metadata": {},
   "outputs": [
    {
     "ename": "ModuleNotFoundError",
     "evalue": "No module named 'quaternion'",
     "output_type": "error",
     "traceback": [
      "\u001b[31m---------------------------------------------------------------------------\u001b[39m",
      "\u001b[31mModuleNotFoundError\u001b[39m                       Traceback (most recent call last)",
      "\u001b[36mCell\u001b[39m\u001b[36m \u001b[39m\u001b[32mIn[9]\u001b[39m\u001b[32m, line 3\u001b[39m\n\u001b[32m      1\u001b[39m \u001b[38;5;28;01mimport\u001b[39;00m\u001b[38;5;250m \u001b[39m\u001b[34;01mEarthModel\u001b[39;00m\n\u001b[32m      2\u001b[39m \u001b[38;5;28;01mimport\u001b[39;00m\u001b[38;5;250m \u001b[39m\u001b[34;01mnumpy\u001b[39;00m\u001b[38;5;250m \u001b[39m\u001b[38;5;28;01mas\u001b[39;00m\u001b[38;5;250m \u001b[39m\u001b[34;01mnp\u001b[39;00m\n\u001b[32m----> \u001b[39m\u001b[32m3\u001b[39m \u001b[38;5;28;01mimport\u001b[39;00m\u001b[38;5;250m \u001b[39m\u001b[34;01mquaternion\u001b[39;00m\n\u001b[32m      4\u001b[39m \u001b[38;5;28;01mimport\u001b[39;00m\u001b[38;5;250m \u001b[39m\u001b[34;01mmath\u001b[39;00m\n",
      "\u001b[31mModuleNotFoundError\u001b[39m: No module named 'quaternion'"
     ]
    }
   ],
   "source": [
    "import EarthModel\n",
    "import numpy as np\n",
    "import quaternion\n",
    "import math"
   ]
  },
  {
   "cell_type": "code",
   "execution_count": 2,
   "id": "80e2203c-ef92-4fa4-a483-d7fde78c0c7a",
   "metadata": {},
   "outputs": [],
   "source": [
    "def FormQuaternionFromEulerAngles(EulerAttitude):\n",
    "\n",
    "    cRoll    = np.cos(\n",
    "         EulerAttitude['NAV_FRAME_EULER_ROLL'] / 2.0);\n",
    "    sRoll    = np.sin(\n",
    "         EulerAttitude['NAV_FRAME_EULER_ROLL'] / 2.0);\n",
    "    cPitch   = np.cos(\n",
    "         EulerAttitude['NAV_FRAME_EULER_PITCH'] / 2.0);\n",
    "    sPitch   = np.sin(\n",
    "         EulerAttitude['NAV_FRAME_EULER_PITCH'] / 2.0);\n",
    "    cHeading = np.cos(\n",
    "         EulerAttitude['NAV_FRAME_EULER_HEADING'] / 2.0);\n",
    "    sHeading = np.sin(\n",
    "         EulerAttitude['NAV_FRAME_EULER_HEADING'] / 2.0);\n",
    "\n",
    "\n",
    "    result = np.quaternion(cRoll*cPitch*cHeading + sRoll*sPitch*sHeading,\n",
    "      sRoll*cPitch*cHeading - cRoll*sPitch*sHeading,\n",
    "      cRoll*sPitch*cHeading + sRoll*cPitch*sHeading,\n",
    "      cRoll*cPitch*sHeading - sRoll*sPitch*cHeading)\n",
    "    return result"
   ]
  },
  {
   "cell_type": "code",
   "execution_count": 3,
   "id": "8f9675dc-f846-4d52-b0df-3501992998d3",
   "metadata": {},
   "outputs": [],
   "source": [
    "def FormDCMFromQuaternion(q):\n",
    "\n",
    "   result = np.identity(3)\n",
    "   ss = q.w * q.w;\n",
    "   ii = q.x * q.x;\n",
    "   jj = q.y * q.y;\n",
    "   kk = q.z * q.z;\n",
    "\n",
    "   jk = 2.0 * q.y * q.z;\n",
    "   ij = 2.0 * q.x * q.y;\n",
    "   ik = 2.0 * q.x * q.z;\n",
    "   si = 2.0 * q.w * q.x;\n",
    "   sj = 2.0 * q.w * q.y;\n",
    "   sk = 2.0 * q.w * q.z;\n",
    "\n",
    "\n",
    "   result[0][0] = ss + ii - jj - kk;\n",
    "   result[0][1] = ij - sk;\n",
    "   result[0][2] = ik + sj;\n",
    "   result[1][0] = ij + sk;\n",
    "   result[1][1] = ss - ii + jj - kk;\n",
    "   result[1][2] = jk - si;\n",
    "   result[2][0] = ik - sj;\n",
    "   result[2][1] = jk + si;\n",
    "   result[2][2] = ss - ii - jj + kk;\n",
    "   \n",
    "   return result"
   ]
  },
  {
   "cell_type": "code",
   "execution_count": 4,
   "id": "45927973-147f-4f14-ad7f-fbda07bb87ed",
   "metadata": {},
   "outputs": [],
   "source": [
    "def ExtractEulerAnglesFromDCM(DCM):\n",
    "\n",
    "   result = {'NAV_FRAME_EULER_ROLL' : np.arctan2(DCM[2][1],DCM[2][2]),\n",
    "             'NAV_FRAME_EULER_PITCH' : -np.arcsin(DCM[2][0]),\n",
    "             'NAV_FRAME_EULER_HEADING' : np.arctan2(DCM[1][0],DCM[0][0])\n",
    "             }\n",
    "   return result"
   ]
  },
  {
   "cell_type": "code",
   "execution_count": 5,
   "id": "74e0ea90-c4ee-4271-a2e1-e32722aa8b50",
   "metadata": {},
   "outputs": [],
   "source": [
    "def FormQuaternionUpdate(Increment):\n",
    "\n",
    "   \n",
    "   # Create a quaternion that represents a small Euler angle update.\n",
    "\n",
    "   # Quaternion update defined as Ac + As*SigmaX i + As*SigmaY j +\n",
    "   # As*SigmaZ k as in Weston\n",
    "   result = np.quaternion(1,0,0,0)\n",
    "   IncrementMagnitude = np.sqrt(\n",
    "                  Increment[0] * Increment[0] +\n",
    "                  Increment[1] * Increment[1] +\n",
    "                  Increment[2] * Increment[2])\n",
    "\n",
    "\n",
    "   if (IncrementMagnitude != 0.0):\n",
    "      As = np.sin(IncrementMagnitude / 2.0)\n",
    "      Ac = np.cos(IncrementMagnitude / 2.0)\n",
    "      As /= IncrementMagnitude;\n",
    "\n",
    "      result.w = Ac;\n",
    "      result.x = As * Increment[0]\n",
    "      result[2] = As * Increment[1]\n",
    "      result.z = As * Increment[2]\n",
    "   else:\n",
    "      result.w = 1.0\n",
    "      result.x = 0.0\n",
    "      result.y = 0.0\n",
    "      result.z = 0.0\n",
    "      \n",
    "   return result"
   ]
  },
  {
   "cell_type": "code",
   "execution_count": 6,
   "id": "c06440c4-e202-483d-8c16-b1b8f98f8cef",
   "metadata": {},
   "outputs": [],
   "source": [
    "testEuler1 = {\n",
    "    'NAV_FRAME_EULER_ROLL':0,\n",
    "    'NAV_FRAME_EULER_PITCH':90*np.pi/180.0,\n",
    "    'NAV_FRAME_EULER_HEADING':0.0\n",
    "}"
   ]
  },
  {
   "cell_type": "code",
   "execution_count": 7,
   "id": "c295cd67-92a6-4ca9-bdb2-ba07e61be726",
   "metadata": {},
   "outputs": [
    {
     "name": "stdout",
     "output_type": "stream",
     "text": [
      "{'NAV_FRAME_EULER_ROLL': 0, 'NAV_FRAME_EULER_PITCH': 1.5707963267948966, 'NAV_FRAME_EULER_HEADING': 0.0}\n"
     ]
    }
   ],
   "source": [
    "print(testEuler1)"
   ]
  },
  {
   "cell_type": "code",
   "execution_count": 8,
   "id": "a925e01a-6d71-4657-8677-72e202b61b58",
   "metadata": {},
   "outputs": [
    {
     "ename": "AttributeError",
     "evalue": "module 'numpy' has no attribute 'quaternion'",
     "output_type": "error",
     "traceback": [
      "\u001b[31m---------------------------------------------------------------------------\u001b[39m",
      "\u001b[31mAttributeError\u001b[39m                            Traceback (most recent call last)",
      "\u001b[36mCell\u001b[39m\u001b[36m \u001b[39m\u001b[32mIn[8]\u001b[39m\u001b[32m, line 1\u001b[39m\n\u001b[32m----> \u001b[39m\u001b[32m1\u001b[39m testQ1 = \u001b[43mFormQuaternionFromEulerAngles\u001b[49m\u001b[43m(\u001b[49m\u001b[43mtestEuler1\u001b[49m\u001b[43m)\u001b[49m\n",
      "\u001b[36mCell\u001b[39m\u001b[36m \u001b[39m\u001b[32mIn[2]\u001b[39m\u001b[32m, line 17\u001b[39m, in \u001b[36mFormQuaternionFromEulerAngles\u001b[39m\u001b[34m(EulerAttitude)\u001b[39m\n\u001b[32m     11\u001b[39m cHeading = np.cos(\n\u001b[32m     12\u001b[39m      EulerAttitude[\u001b[33m'\u001b[39m\u001b[33mNAV_FRAME_EULER_HEADING\u001b[39m\u001b[33m'\u001b[39m] / \u001b[32m2.0\u001b[39m);\n\u001b[32m     13\u001b[39m sHeading = np.sin(\n\u001b[32m     14\u001b[39m      EulerAttitude[\u001b[33m'\u001b[39m\u001b[33mNAV_FRAME_EULER_HEADING\u001b[39m\u001b[33m'\u001b[39m] / \u001b[32m2.0\u001b[39m);\n\u001b[32m---> \u001b[39m\u001b[32m17\u001b[39m result = \u001b[43mnp\u001b[49m\u001b[43m.\u001b[49m\u001b[43mquaternion\u001b[49m(cRoll*cPitch*cHeading + sRoll*sPitch*sHeading,\n\u001b[32m     18\u001b[39m   sRoll*cPitch*cHeading - cRoll*sPitch*sHeading,\n\u001b[32m     19\u001b[39m   cRoll*sPitch*cHeading + sRoll*cPitch*sHeading,\n\u001b[32m     20\u001b[39m   cRoll*cPitch*sHeading - sRoll*sPitch*cHeading)\n\u001b[32m     21\u001b[39m \u001b[38;5;28;01mreturn\u001b[39;00m result\n",
      "\u001b[36mFile \u001b[39m\u001b[32m~\\source\\nav\\Lib\\site-packages\\numpy\\__init__.py:427\u001b[39m, in \u001b[36m__getattr__\u001b[39m\u001b[34m(attr)\u001b[39m\n\u001b[32m    424\u001b[39m     \u001b[38;5;28;01mimport\u001b[39;00m\u001b[38;5;250m \u001b[39m\u001b[34;01mnumpy\u001b[39;00m\u001b[34;01m.\u001b[39;00m\u001b[34;01mchar\u001b[39;00m\u001b[38;5;250m \u001b[39m\u001b[38;5;28;01mas\u001b[39;00m\u001b[38;5;250m \u001b[39m\u001b[34;01mchar\u001b[39;00m\n\u001b[32m    425\u001b[39m     \u001b[38;5;28;01mreturn\u001b[39;00m char.chararray\n\u001b[32m--> \u001b[39m\u001b[32m427\u001b[39m \u001b[38;5;28;01mraise\u001b[39;00m \u001b[38;5;167;01mAttributeError\u001b[39;00m(\u001b[33m\"\u001b[39m\u001b[33mmodule \u001b[39m\u001b[38;5;132;01m{!r}\u001b[39;00m\u001b[33m has no attribute \u001b[39m\u001b[33m\"\u001b[39m\n\u001b[32m    428\u001b[39m                      \u001b[33m\"\u001b[39m\u001b[38;5;132;01m{!r}\u001b[39;00m\u001b[33m\"\u001b[39m.format(\u001b[34m__name__\u001b[39m, attr))\n",
      "\u001b[31mAttributeError\u001b[39m: module 'numpy' has no attribute 'quaternion'"
     ]
    }
   ],
   "source": [
    "testQ1 = FormQuaternionFromEulerAngles(testEuler1)"
   ]
  },
  {
   "cell_type": "code",
   "execution_count": null,
   "id": "4f7ced03-c57e-4191-aae1-967aa33a79f8",
   "metadata": {},
   "outputs": [],
   "source": []
  }
 ],
 "metadata": {
  "kernelspec": {
   "display_name": "nav",
   "language": "python",
   "name": "nav"
  },
  "language_info": {
   "codemirror_mode": {
    "name": "ipython",
    "version": 3
   },
   "file_extension": ".py",
   "mimetype": "text/x-python",
   "name": "python",
   "nbconvert_exporter": "python",
   "pygments_lexer": "ipython3",
   "version": "3.12.0"
  }
 },
 "nbformat": 4,
 "nbformat_minor": 5
}
